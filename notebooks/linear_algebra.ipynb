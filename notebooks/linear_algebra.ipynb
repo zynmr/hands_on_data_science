{
 "cells": [
  {
   "cell_type": "markdown",
   "metadata": {},
   "source": [
    "# Hands on Linear Algebra with Python\n",
    "## Foreword\n",
    "\n",
    "Based on <i>Einführung in Data Science</i> by Joel Grus, this notebook attempts to tackle the fundamentals of linear algebra with python. For me, it's important to go into more detail for, yet, I don't feel confident enough to deal data science without knowing about the mathematical fundamentals. So, this notebook is an attempt to fill that gap.\n",
    "\n",
    "\n",
    "But before I start, I need to do some mandatory stuff like importing libraries and initialising a logger."
   ]
  },
  {
   "cell_type": "code",
   "execution_count": 1,
   "metadata": {},
   "outputs": [],
   "source": [
    "# Import libraries\n",
    "import logging\n",
    "import numpy as np"
   ]
  },
  {
   "cell_type": "code",
   "execution_count": 2,
   "metadata": {},
   "outputs": [],
   "source": [
    "# Initialise Logger\n",
    "log = logging.getLogger('linear_algebra_notebook')\n",
    "log.setLevel(logging.INFO)\n",
    "\n",
    "formatter = logging.Formatter('%(asctime)s - %(name)s - %(levelname)s - %(message)s')\n",
    "\n",
    "fh = logging.FileHandler('log/linear_algebra.log')\n",
    "fh.setLevel(logging.INFO)\n",
    "fh.setFormatter(formatter)\n",
    "\n",
    "log.addHandler(fh)"
   ]
  },
  {
   "cell_type": "markdown",
   "metadata": {},
   "source": [
    "## Matrices \n",
    "In general, matrices can be thought of like n-dimensional arrays. That means a matrix can have <i>n</i> rows and <i>m</i> columns.\n",
    "### Formula\n",
    "<center>\n",
    "$$\n",
    "A_{m,n} = \n",
    " \\begin{pmatrix}\n",
    "  a_{1,1} & a_{1,2} & \\cdots & a_{1,n} \\\\\n",
    "  a_{2,1} & a_{2,2} & \\cdots & a_{2,n} \\\\\n",
    "  \\vdots  & \\vdots  & \\ddots & \\vdots  \\\\\n",
    "  a_{m,1} & a_{m,2} & \\cdots & a_{m,n} \n",
    " \\end{pmatrix}\n",
    " $$\n",
    "</center>\n",
    "\n",
    "To specifiy the position of an element within a matrix something like $a_{n,m}$ is used. In this very notation, $n$ determines the row whereas $m$ determines the column in which the element can be found.\n",
    "### Example\n",
    "<center>\n",
    "$$\n",
    "A = \\begin{pmatrix}\n",
    "    1 & 4 \\\\\n",
    "    9 & 5 \\\\\n",
    "    8 & 0\n",
    "    \\end{pmatrix}\n",
    "$$\n",
    "</center>\n",
    "\n",
    "Following what is said above, the element at position $A_{3,1}$ is $8$.\n",
    "\n",
    "### Addition of two matrices\n",
    "If you want to add up two matrices, make sure both matrices do have the same dimension. Meaning both must have the same number of rows and the same number of columns.\n",
    "<center>\n",
    "$$\n",
    "A = \\begin{pmatrix}\n",
    "    a_{1,1} & a_{1,2} \\\\\n",
    "    a_{2,1} & a_{2,2} \\\\\n",
    "    a_{3,1} & a_{3,2}\n",
    "    \\end{pmatrix}\n",
    "    ;\n",
    "B = \\begin{pmatrix}\n",
    "    b_{1,1} & b_{1,2} \\\\\n",
    "    b_{2,1} & b_{2,2} \\\\\n",
    "    b_{3,1} & b_{3,2}\n",
    "    \\end{pmatrix}\n",
    "$$\n",
    "</center>\n",
    "\n",
    "In this case, adding up $A$ and $B$ is possible because both have the same dimension. So, we can do the following:\n",
    "\n",
    "\n",
    "<center>\n",
    "$$\n",
    "\\begin{pmatrix}\n",
    "a_{1,1} & a_{1,2} \\\\\n",
    "a_{2,1} & a_{2,2} \\\\\n",
    "a_{3,1} & a_{3,2}\n",
    "\\end{pmatrix}\n",
    "+\n",
    "\\begin{pmatrix}\n",
    "b_{1,1} & b_{1,2} \\\\\n",
    "b_{2,1} & b_{2,2} \\\\\n",
    "b_{3,1} & b_{3,2}\n",
    "\\end{pmatrix}\n",
    "=\n",
    "\\begin{pmatrix}\n",
    "a_{1,1} + b_{1,1} & a_{1,2} + b_{1,2}\\\\\n",
    "a_{2,1} + b_{2,1} & a_{2,2} + b_{2,2}\\\\\n",
    "a_{3,1} + b_{3,1} & a_{3,2} + b_{3,2}\n",
    "\\end{pmatrix}\n",
    "$$\n",
    "</center>\n",
    "\n",
    "But adding up two matrices that do not share the same dimensions is not possible:\n",
    "\n",
    "<center>\n",
    "$$\n",
    "A = \\begin{pmatrix}\n",
    "    a_{1,1} & a_{1,2} \\\\\n",
    "    a_{2,1} & a_{2,2} \\\\\n",
    "    a_{3,1} & a_{3,2}\n",
    "    \\end{pmatrix}\n",
    "    ;\n",
    "B = \\begin{pmatrix}\n",
    "    b_{1,1} & b_{1,2} \\\\\n",
    "    b_{2,1} & b_{2,2} \\\\\n",
    "    \\end{pmatrix}\n",
    "$$\n",
    "</center>\n",
    "\n",
    "In the latter case, adding up $A$ and $B$ is not possible they do not share the same dimension.\n",
    "\n",
    "Now let's check out how this would be done in python."
   ]
  },
  {
   "cell_type": "code",
   "execution_count": 3,
   "metadata": {},
   "outputs": [],
   "source": [
    "# Function to sum up two matrices a and b with only one dimension without using a specialised package\n",
    "def sum_two_one_dimensional_matrices(v_a, v_b):\n",
    "    log.info('checking length of matrices a ' + str(v_a) +  ' and matrices b ' + str(v_b))\n",
    "    if len(v_a) is len(v_b):\n",
    "        log.info('sum up matrices a and vector b.')\n",
    "        result = []\n",
    "        for i in range(0, len(v_a)):\n",
    "            tmp = v_a[i] + v_b[i]\n",
    "            result.append(tmp)\n",
    "        log.info('result: ' + str(result))\n",
    "        return result\n",
    "    else:\n",
    "        log.error('matrices must have the same length.')\n",
    "        return None\n",
    "\n",
    "    \n",
    "# Function to sum up matrices n dimensions without using a specialised package\n",
    "def sum_two_n_dimensional_matrices_difficultly(nd_v_a, nd_v_b):\n",
    "    log.info('checking length of matrices a ' + str(v_a) +  ' and matrices b ' + str(v_b))\n",
    "    final = []\n",
    "    if len(nd_v_a) is len(nd_v_b):\n",
    "        for i in range(0, len(nd_v_a)):\n",
    "            tmp_a = nd_v_a[i]\n",
    "            tmp_b = nd_v_b[i]\n",
    "            result = []\n",
    "            if len(tmp_a) is len(tmp_b):\n",
    "                for j in range(0, len(tmp_a)):\n",
    "                    tmp = tmp_a[j] + tmp_b[j]\n",
    "                    result.append(tmp)\n",
    "            else:\n",
    "                log.error('columns must have the same length.')\n",
    "                return None\n",
    "            final.append(result)\n",
    "        log.info('result: ' + str(result))\n",
    "        return final\n",
    "    else:\n",
    "        log.error('matrices must have the same length.')\n",
    "        return None\n",
    "    \n",
    "    \n",
    "# Function to sum up to n-dimension matrices using numpy\n",
    "def sum_up_two_n_dimensional_matrices(nd_v_a, nd_v_b):\n",
    "    log.info('checking length of matrices a ' + str(v_a) +  ' and matrices b ' + str(v_b))\n",
    "    return nd_v_a + nd_v_b"
   ]
  },
  {
   "cell_type": "code",
   "execution_count": 4,
   "metadata": {},
   "outputs": [
    {
     "name": "stdout",
     "output_type": "stream",
     "text": [
      "[3, 11, 4]\n"
     ]
    }
   ],
   "source": [
    "# first function - positive case\n",
    "v_a = [1,5,0]\n",
    "v_b = [2,6,4]\n",
    "result = sum_two_one_dimensional_matrices(v_a, v_b)\n",
    "print(result)"
   ]
  },
  {
   "cell_type": "code",
   "execution_count": 5,
   "metadata": {},
   "outputs": [
    {
     "name": "stdout",
     "output_type": "stream",
     "text": [
      "None\n"
     ]
    }
   ],
   "source": [
    "# negative function - positive case\n",
    "v_a = [1,5]\n",
    "v_b = [2,6,4]\n",
    "result = sum_two_one_dimensional_matrices(v_a, v_b)\n",
    "print(result)"
   ]
  },
  {
   "cell_type": "code",
   "execution_count": 6,
   "metadata": {},
   "outputs": [
    {
     "name": "stdout",
     "output_type": "stream",
     "text": [
      "[[8, 13, 12], [7, 3, 2]]\n"
     ]
    }
   ],
   "source": [
    "# second function - positive case\n",
    "nd_v_a = [[1,5,9], [6,2,1]]\n",
    "nd_v_b = [[7,8,3], [1,1,1]]\n",
    "result = sum_two_n_dimensional_matrices_difficultly(nd_v_a, nd_v_b)\n",
    "print(result)"
   ]
  },
  {
   "cell_type": "code",
   "execution_count": 7,
   "metadata": {},
   "outputs": [
    {
     "name": "stdout",
     "output_type": "stream",
     "text": [
      "None\n"
     ]
    }
   ],
   "source": [
    "# second function - negative case\n",
    "nd_v_a = [[1,5,9], [6,2]]\n",
    "nd_v_b = [[7,8,3], [1,1,1]]\n",
    "result = sum_two_n_dimensional_matrices_difficultly(nd_v_a, nd_v_b)\n",
    "print(result)"
   ]
  },
  {
   "cell_type": "code",
   "execution_count": 8,
   "metadata": {},
   "outputs": [
    {
     "name": "stdout",
     "output_type": "stream",
     "text": [
      "[[ 4 16 14]\n",
      " [18  7  7]]\n"
     ]
    }
   ],
   "source": [
    "# thrid function - positive case\n",
    "nd_v_a = np.array([[1,8,6], [9,7,1]])\n",
    "nd_v_b = np.array([[3,8,8], [9,0,6]])\n",
    "result = sum_up_two_n_dimensional_matrices(nd_v_a, nd_v_b)\n",
    "print(result)"
   ]
  },
  {
   "cell_type": "code",
   "execution_count": 9,
   "metadata": {},
   "outputs": [
    {
     "ename": "ValueError",
     "evalue": "operands could not be broadcast together with shapes (2,) (2,3) ",
     "output_type": "error",
     "traceback": [
      "\u001b[0;31m---------------------------------------------------------------------------\u001b[0m",
      "\u001b[0;31mValueError\u001b[0m                                Traceback (most recent call last)",
      "\u001b[0;32m<ipython-input-9-14dff49946fc>\u001b[0m in \u001b[0;36m<module>\u001b[0;34m\u001b[0m\n\u001b[1;32m      2\u001b[0m \u001b[0mnd_v_a\u001b[0m \u001b[0;34m=\u001b[0m \u001b[0mnp\u001b[0m\u001b[0;34m.\u001b[0m\u001b[0marray\u001b[0m\u001b[0;34m(\u001b[0m\u001b[0;34m[\u001b[0m\u001b[0;34m[\u001b[0m\u001b[0;36m1\u001b[0m\u001b[0;34m,\u001b[0m\u001b[0;36m8\u001b[0m\u001b[0;34m,\u001b[0m\u001b[0;36m6\u001b[0m\u001b[0;34m]\u001b[0m\u001b[0;34m,\u001b[0m \u001b[0;34m[\u001b[0m\u001b[0;36m7\u001b[0m\u001b[0;34m,\u001b[0m\u001b[0;36m1\u001b[0m\u001b[0;34m]\u001b[0m\u001b[0;34m]\u001b[0m\u001b[0;34m)\u001b[0m\u001b[0;34m\u001b[0m\u001b[0;34m\u001b[0m\u001b[0m\n\u001b[1;32m      3\u001b[0m \u001b[0mnd_v_b\u001b[0m \u001b[0;34m=\u001b[0m \u001b[0mnp\u001b[0m\u001b[0;34m.\u001b[0m\u001b[0marray\u001b[0m\u001b[0;34m(\u001b[0m\u001b[0;34m[\u001b[0m\u001b[0;34m[\u001b[0m\u001b[0;36m3\u001b[0m\u001b[0;34m,\u001b[0m\u001b[0;36m8\u001b[0m\u001b[0;34m,\u001b[0m\u001b[0;36m8\u001b[0m\u001b[0;34m]\u001b[0m\u001b[0;34m,\u001b[0m \u001b[0;34m[\u001b[0m\u001b[0;36m9\u001b[0m\u001b[0;34m,\u001b[0m\u001b[0;36m0\u001b[0m\u001b[0;34m,\u001b[0m\u001b[0;36m6\u001b[0m\u001b[0;34m]\u001b[0m\u001b[0;34m]\u001b[0m\u001b[0;34m)\u001b[0m\u001b[0;34m\u001b[0m\u001b[0;34m\u001b[0m\u001b[0m\n\u001b[0;32m----> 4\u001b[0;31m \u001b[0mresult\u001b[0m \u001b[0;34m=\u001b[0m \u001b[0msum_up_two_n_dimensional_matrices\u001b[0m\u001b[0;34m(\u001b[0m\u001b[0mnd_v_a\u001b[0m\u001b[0;34m,\u001b[0m \u001b[0mnd_v_b\u001b[0m\u001b[0;34m)\u001b[0m\u001b[0;34m\u001b[0m\u001b[0;34m\u001b[0m\u001b[0m\n\u001b[0m\u001b[1;32m      5\u001b[0m \u001b[0mprint\u001b[0m\u001b[0;34m(\u001b[0m\u001b[0mresult\u001b[0m\u001b[0;34m)\u001b[0m\u001b[0;34m\u001b[0m\u001b[0;34m\u001b[0m\u001b[0m\n",
      "\u001b[0;32m<ipython-input-3-516864c9b70a>\u001b[0m in \u001b[0;36msum_up_two_n_dimensional_matrices\u001b[0;34m(nd_v_a, nd_v_b)\u001b[0m\n\u001b[1;32m     42\u001b[0m \u001b[0;32mdef\u001b[0m \u001b[0msum_up_two_n_dimensional_matrices\u001b[0m\u001b[0;34m(\u001b[0m\u001b[0mnd_v_a\u001b[0m\u001b[0;34m,\u001b[0m \u001b[0mnd_v_b\u001b[0m\u001b[0;34m)\u001b[0m\u001b[0;34m:\u001b[0m\u001b[0;34m\u001b[0m\u001b[0;34m\u001b[0m\u001b[0m\n\u001b[1;32m     43\u001b[0m     \u001b[0mlog\u001b[0m\u001b[0;34m.\u001b[0m\u001b[0minfo\u001b[0m\u001b[0;34m(\u001b[0m\u001b[0;34m'checking length of matrices a '\u001b[0m \u001b[0;34m+\u001b[0m \u001b[0mstr\u001b[0m\u001b[0;34m(\u001b[0m\u001b[0mv_a\u001b[0m\u001b[0;34m)\u001b[0m \u001b[0;34m+\u001b[0m  \u001b[0;34m' and matrices b '\u001b[0m \u001b[0;34m+\u001b[0m \u001b[0mstr\u001b[0m\u001b[0;34m(\u001b[0m\u001b[0mv_b\u001b[0m\u001b[0;34m)\u001b[0m\u001b[0;34m)\u001b[0m\u001b[0;34m\u001b[0m\u001b[0;34m\u001b[0m\u001b[0m\n\u001b[0;32m---> 44\u001b[0;31m     \u001b[0;32mreturn\u001b[0m \u001b[0mnd_v_a\u001b[0m \u001b[0;34m+\u001b[0m \u001b[0mnd_v_b\u001b[0m\u001b[0;34m\u001b[0m\u001b[0;34m\u001b[0m\u001b[0m\n\u001b[0m",
      "\u001b[0;31mValueError\u001b[0m: operands could not be broadcast together with shapes (2,) (2,3) "
     ]
    }
   ],
   "source": [
    "# thrid function - negative case\n",
    "nd_v_a = np.array([[1,8,6], [7,1]])\n",
    "nd_v_b = np.array([[3,8,8], [9,0,6]])\n",
    "result = sum_up_two_n_dimensional_matrices(nd_v_a, nd_v_b)\n",
    "print(result)"
   ]
  },
  {
   "cell_type": "markdown",
   "metadata": {},
   "source": [
    "Above, I implemented three different functions. The first two functions are implemented from scratch. Meaning I had to think about how to sum up matrices of $n$ dimensions. As you can see, the code became quite large, hard to understand and dissatisfying. Therefore, I implemented a third option using a specialised package. <i>Numpy</i> is a simple yet powerful package for scientific coding that makes life much easier.\n",
    "\n",
    "The following code blocks just utilise these previously defined functions. These perfectly illustrate what is said before - you cannot sum up vectors that do not have the same dimension.\n",
    "\n",
    "### Subtraction of two matrices\n",
    "Like additon, subtraction of two matrices is the same. Here, you need two n-dimensional matrices that share the same dimension. If that is not given, subtraction does not work at all.\n",
    "\n",
    "\n",
    "<center>\n",
    "$$\n",
    "A = \\begin{pmatrix}\n",
    "    a_{1,1} & a_{1,2} \\\\\n",
    "    a_{2,1} & a_{2,2} \\\\\n",
    "    a_{3,1} & a_{3,2}\n",
    "    \\end{pmatrix}\n",
    "    ;\n",
    "B = \\begin{pmatrix}\n",
    "    b_{1,1} & b_{1,2} \\\\\n",
    "    b_{2,1} & b_{2,2} \\\\\n",
    "    b_{3,1} & b_{3,2}\n",
    "    \\end{pmatrix}\n",
    "$$\n",
    "</center>\n",
    "\n",
    "\n",
    "Here, a subtraction would be possible for the matrices share the same dimensions. So, we can do this:\n",
    "\n",
    "<center>\n",
    "$$\n",
    "\\begin{pmatrix}\n",
    "a_{1,1} & a_{1,2} \\\\\n",
    "a_{2,1} & a_{2,2} \\\\\n",
    "a_{3,1} & a_{3,2}\n",
    "\\end{pmatrix}\n",
    "-\n",
    "\\begin{pmatrix}\n",
    "b_{1,1} & b_{1,2} \\\\\n",
    "b_{2,1} & b_{2,2} \\\\\n",
    "b_{3,1} & b_{3,2}\n",
    "\\end{pmatrix}\n",
    "= \\begin{pmatrix}\n",
    "a_{1,1} - b_{1,1} & a_{1,1} - b_{1,2} \\\\\n",
    "a_{2,1} - b_{2,1} & a_{2,1} - b_{2,2} \\\\\n",
    "a_{3,1} - b_{3,1} & a_{3,1} - b_{3,2}\n",
    "\\end{pmatrix}\n",
    "$$\n",
    "</center>"
   ]
  },
  {
   "cell_type": "code",
   "execution_count": 10,
   "metadata": {},
   "outputs": [],
   "source": [
    "# Function to sum up two vectors a and b with only one dimension without using a specialised package\n",
    "def subtract_two_one_dimensional_matrices(v_a, v_b):\n",
    "    log.info('checking length of vector a ' + str(v_a) +  ' and vector b ' + str(v_b))\n",
    "    if len(v_a) is len(v_b):\n",
    "        log.info('sum up vector a and vector b.')\n",
    "        result = []\n",
    "        for i in range(0, len(v_a)):\n",
    "            tmp = v_a[i] - v_b[i]\n",
    "            result.append(tmp)\n",
    "        log.info('result: ' + str(result))\n",
    "        return result\n",
    "    else:\n",
    "        log.error('vectors must have the same length.')\n",
    "        return None\n",
    "\n",
    "    \n",
    "# Function to sum up vectors n dimensions without using a specialised package\n",
    "def subtract_two_n_dimensional_matrices_difficultly(nd_v_a, nd_v_b):\n",
    "    log.info('checking length of vector a ' + str(v_a) +  ' and vector b ' + str(v_b))\n",
    "    final = []\n",
    "    if len(nd_v_a) is len(nd_v_b):\n",
    "        for i in range(0, len(nd_v_a)):\n",
    "            tmp_a = nd_v_a[i]\n",
    "            tmp_b = nd_v_b[i]\n",
    "            result = []\n",
    "            if len(tmp_a) is len(tmp_b):\n",
    "                for j in range(0, len(tmp_a)):\n",
    "                    tmp = tmp_a[j] - tmp_b[j]\n",
    "                    result.append(tmp)\n",
    "            else:\n",
    "                log.error('columns must have the same length.')\n",
    "                return None\n",
    "            final.append(result)\n",
    "        log.info('result: ' + str(result))\n",
    "        return final\n",
    "    else:\n",
    "        log.error('vectors must have the same length.')\n",
    "        return None\n",
    "    \n",
    "    \n",
    "# Function to sum up to n-dimension vectors using numpy\n",
    "def subtract_up_two_n_dimensional_matrices(nd_v_a, nd_v_b):\n",
    "    log.info('checking length of vector a ' + str(v_a) +  ' and vector b ' + str(v_b))\n",
    "    return nd_v_a - nd_v_b"
   ]
  },
  {
   "cell_type": "code",
   "execution_count": 11,
   "metadata": {},
   "outputs": [
    {
     "name": "stdout",
     "output_type": "stream",
     "text": [
      "[-1, -1, -4]\n"
     ]
    }
   ],
   "source": [
    "# first function - positive case\n",
    "v_a = [1,5,0]\n",
    "v_b = [2,6,4]\n",
    "result = subtract_two_one_dimensional_matrices(v_a, v_b)\n",
    "print(result)"
   ]
  },
  {
   "cell_type": "code",
   "execution_count": 12,
   "metadata": {},
   "outputs": [
    {
     "name": "stdout",
     "output_type": "stream",
     "text": [
      "None\n"
     ]
    }
   ],
   "source": [
    "# negative function - positive case\n",
    "v_a = [1,5]\n",
    "v_b = [2,6,4]\n",
    "result = subtract_two_one_dimensional_matrices(v_a, v_b)\n",
    "print(result)"
   ]
  },
  {
   "cell_type": "code",
   "execution_count": 13,
   "metadata": {},
   "outputs": [
    {
     "name": "stdout",
     "output_type": "stream",
     "text": [
      "[[-6, -3, 6], [5, 1, 0]]\n"
     ]
    }
   ],
   "source": [
    "# second function - positive case\n",
    "nd_v_a = [[1,5,9], [6,2,1]]\n",
    "nd_v_b = [[7,8,3], [1,1,1]]\n",
    "result = subtract_two_n_dimensional_matrices_difficultly(nd_v_a, nd_v_b)\n",
    "print(result)"
   ]
  },
  {
   "cell_type": "code",
   "execution_count": 14,
   "metadata": {},
   "outputs": [
    {
     "name": "stdout",
     "output_type": "stream",
     "text": [
      "None\n"
     ]
    }
   ],
   "source": [
    "# second function - negative case\n",
    "nd_v_a = [[1,5,9], [6,2]]\n",
    "nd_v_b = [[7,8,3], [1,1,1]]\n",
    "result = subtract_two_n_dimensional_matrices_difficultly(nd_v_a, nd_v_b)\n",
    "print(result)"
   ]
  },
  {
   "cell_type": "code",
   "execution_count": 15,
   "metadata": {},
   "outputs": [
    {
     "name": "stdout",
     "output_type": "stream",
     "text": [
      "[[-2  0 -2]\n",
      " [ 0  7 -5]]\n"
     ]
    }
   ],
   "source": [
    "# thrid function - positive case\n",
    "nd_v_a = np.array([[1,8,6], [9,7,1]])\n",
    "nd_v_b = np.array([[3,8,8], [9,0,6]])\n",
    "result = subtract_up_two_n_dimensional_matrices(nd_v_a, nd_v_b)\n",
    "print(result)"
   ]
  },
  {
   "cell_type": "code",
   "execution_count": 16,
   "metadata": {},
   "outputs": [
    {
     "ename": "ValueError",
     "evalue": "operands could not be broadcast together with shapes (2,) (2,3) ",
     "output_type": "error",
     "traceback": [
      "\u001b[0;31m---------------------------------------------------------------------------\u001b[0m",
      "\u001b[0;31mValueError\u001b[0m                                Traceback (most recent call last)",
      "\u001b[0;32m<ipython-input-16-2034ff5d8b09>\u001b[0m in \u001b[0;36m<module>\u001b[0;34m\u001b[0m\n\u001b[1;32m      2\u001b[0m \u001b[0mnd_v_a\u001b[0m \u001b[0;34m=\u001b[0m \u001b[0mnp\u001b[0m\u001b[0;34m.\u001b[0m\u001b[0marray\u001b[0m\u001b[0;34m(\u001b[0m\u001b[0;34m[\u001b[0m\u001b[0;34m[\u001b[0m\u001b[0;36m1\u001b[0m\u001b[0;34m,\u001b[0m\u001b[0;36m8\u001b[0m\u001b[0;34m,\u001b[0m\u001b[0;36m6\u001b[0m\u001b[0;34m]\u001b[0m\u001b[0;34m,\u001b[0m \u001b[0;34m[\u001b[0m\u001b[0;36m7\u001b[0m\u001b[0;34m,\u001b[0m\u001b[0;36m1\u001b[0m\u001b[0;34m]\u001b[0m\u001b[0;34m]\u001b[0m\u001b[0;34m)\u001b[0m\u001b[0;34m\u001b[0m\u001b[0;34m\u001b[0m\u001b[0m\n\u001b[1;32m      3\u001b[0m \u001b[0mnd_v_b\u001b[0m \u001b[0;34m=\u001b[0m \u001b[0mnp\u001b[0m\u001b[0;34m.\u001b[0m\u001b[0marray\u001b[0m\u001b[0;34m(\u001b[0m\u001b[0;34m[\u001b[0m\u001b[0;34m[\u001b[0m\u001b[0;36m3\u001b[0m\u001b[0;34m,\u001b[0m\u001b[0;36m8\u001b[0m\u001b[0;34m,\u001b[0m\u001b[0;36m8\u001b[0m\u001b[0;34m]\u001b[0m\u001b[0;34m,\u001b[0m \u001b[0;34m[\u001b[0m\u001b[0;36m9\u001b[0m\u001b[0;34m,\u001b[0m\u001b[0;36m0\u001b[0m\u001b[0;34m,\u001b[0m\u001b[0;36m6\u001b[0m\u001b[0;34m]\u001b[0m\u001b[0;34m]\u001b[0m\u001b[0;34m)\u001b[0m\u001b[0;34m\u001b[0m\u001b[0;34m\u001b[0m\u001b[0m\n\u001b[0;32m----> 4\u001b[0;31m \u001b[0mresult\u001b[0m \u001b[0;34m=\u001b[0m \u001b[0msubtract_up_two_n_dimensional_matrices\u001b[0m\u001b[0;34m(\u001b[0m\u001b[0mnd_v_a\u001b[0m\u001b[0;34m,\u001b[0m \u001b[0mnd_v_b\u001b[0m\u001b[0;34m)\u001b[0m\u001b[0;34m\u001b[0m\u001b[0;34m\u001b[0m\u001b[0m\n\u001b[0m\u001b[1;32m      5\u001b[0m \u001b[0mprint\u001b[0m\u001b[0;34m(\u001b[0m\u001b[0mresult\u001b[0m\u001b[0;34m)\u001b[0m\u001b[0;34m\u001b[0m\u001b[0;34m\u001b[0m\u001b[0m\n",
      "\u001b[0;32m<ipython-input-10-a216fcad7b6b>\u001b[0m in \u001b[0;36msubtract_up_two_n_dimensional_matrices\u001b[0;34m(nd_v_a, nd_v_b)\u001b[0m\n\u001b[1;32m     42\u001b[0m \u001b[0;32mdef\u001b[0m \u001b[0msubtract_up_two_n_dimensional_matrices\u001b[0m\u001b[0;34m(\u001b[0m\u001b[0mnd_v_a\u001b[0m\u001b[0;34m,\u001b[0m \u001b[0mnd_v_b\u001b[0m\u001b[0;34m)\u001b[0m\u001b[0;34m:\u001b[0m\u001b[0;34m\u001b[0m\u001b[0;34m\u001b[0m\u001b[0m\n\u001b[1;32m     43\u001b[0m     \u001b[0mlog\u001b[0m\u001b[0;34m.\u001b[0m\u001b[0minfo\u001b[0m\u001b[0;34m(\u001b[0m\u001b[0;34m'checking length of vector a '\u001b[0m \u001b[0;34m+\u001b[0m \u001b[0mstr\u001b[0m\u001b[0;34m(\u001b[0m\u001b[0mv_a\u001b[0m\u001b[0;34m)\u001b[0m \u001b[0;34m+\u001b[0m  \u001b[0;34m' and vector b '\u001b[0m \u001b[0;34m+\u001b[0m \u001b[0mstr\u001b[0m\u001b[0;34m(\u001b[0m\u001b[0mv_b\u001b[0m\u001b[0;34m)\u001b[0m\u001b[0;34m)\u001b[0m\u001b[0;34m\u001b[0m\u001b[0;34m\u001b[0m\u001b[0m\n\u001b[0;32m---> 44\u001b[0;31m     \u001b[0;32mreturn\u001b[0m \u001b[0mnd_v_a\u001b[0m \u001b[0;34m-\u001b[0m \u001b[0mnd_v_b\u001b[0m\u001b[0;34m\u001b[0m\u001b[0;34m\u001b[0m\u001b[0m\n\u001b[0m",
      "\u001b[0;31mValueError\u001b[0m: operands could not be broadcast together with shapes (2,) (2,3) "
     ]
    }
   ],
   "source": [
    "# thrid function - negative case\n",
    "nd_v_a = np.array([[1,8,6], [7,1]])\n",
    "nd_v_b = np.array([[3,8,8], [9,0,6]])\n",
    "result = subtract_up_two_n_dimensional_matrices(nd_v_a, nd_v_b)\n",
    "print(result)"
   ]
  }
 ],
 "metadata": {
  "kernelspec": {
   "display_name": "Python 3",
   "language": "python",
   "name": "python3"
  },
  "language_info": {
   "codemirror_mode": {
    "name": "ipython",
    "version": 3
   },
   "file_extension": ".py",
   "mimetype": "text/x-python",
   "name": "python",
   "nbconvert_exporter": "python",
   "pygments_lexer": "ipython3",
   "version": "3.6.8"
  }
 },
 "nbformat": 4,
 "nbformat_minor": 2
}
