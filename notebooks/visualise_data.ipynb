{
 "cells": [
  {
   "cell_type": "markdown",
   "metadata": {},
   "source": [
    "# Visualise Data\n",
    "## Foreword\n",
    "In this notebook, I will attempt to visualise data. To do so, I will utilise different packages which are famous for takling data science topics. Here's a list of the packages I will use.<br>\n",
    "<ul>\n",
    "    <li>\n",
    "        pandas\n",
    "    </li>\n",
    "    <li>\n",
    "        matplotlib\n",
    "    </li>\n",
    "    <li>\n",
    "        seaborn\n",
    "    </li>\n",
    "    <li>\n",
    "        to be continued\n",
    "    </li>\n",
    "</ul>\n",
    "<br>\n",
    "To do so, I will dedicate one section for each package. But be aware that I will not into detail. This notebook aims to convey a <i>first impression</i> of the packages I will use here. If all goes well, more detail will be added in later notebooks.\n",
    "\n",
    "## Packages\n",
    "But before I start, I will import some packages I need."
   ]
  },
  {
   "cell_type": "code",
   "execution_count": 4,
   "metadata": {},
   "outputs": [],
   "source": [
    "import logging"
   ]
  },
  {
   "cell_type": "markdown",
   "metadata": {},
   "source": [
    "## Logger\n",
    "First, I initialise python's logging package."
   ]
  },
  {
   "cell_type": "code",
   "execution_count": 3,
   "metadata": {},
   "outputs": [],
   "source": [
    "# Initialise Logger\n",
    "log = logging.getLogger('visualise_data_notebook')\n",
    "log.setLevel(logging.INFO)\n",
    "\n",
    "formatter = logging.Formatter('%(asctime)s - %(name)s - %(levelname)s - %(message)s')\n",
    "\n",
    "fh = logging.FileHandler('log/visualise_data.log')\n",
    "fh.setLevel(logging.INFO)\n",
    "fh.setFormatter(formatter)\n",
    "\n",
    "log.addHandler(fh)"
   ]
  }
 ],
 "metadata": {
  "kernelspec": {
   "display_name": "Python 3",
   "language": "python",
   "name": "python3"
  },
  "language_info": {
   "codemirror_mode": {
    "name": "ipython",
    "version": 3
   },
   "file_extension": ".py",
   "mimetype": "text/x-python",
   "name": "python",
   "nbconvert_exporter": "python",
   "pygments_lexer": "ipython3",
   "version": "3.6.8"
  }
 },
 "nbformat": 4,
 "nbformat_minor": 2
}
