{
 "cells": [
  {
   "cell_type": "markdown",
   "metadata": {},
   "source": [
    "# Visualise Data\n",
    "## Foreword\n",
    "In this notebook, I will attempt to visualise data. To do so, I will utilise different packages which are famous for takling data science topics. Here's a list of the packages I will use.<br>\n",
    "<ul>\n",
    "    <li>\n",
    "        pandas\n",
    "    </li>\n",
    "    <li>\n",
    "        matplotlib\n",
    "    </li>\n",
    "    <li>\n",
    "        seaborn\n",
    "    </li>\n",
    "    <li>\n",
    "        to be continued\n",
    "    </li>\n",
    "</ul>\n",
    "<br>\n",
    "To do so, I will dedicate one section for each package. But be aware that I will not go into detail. This notebook aims to convey a <i>first impression</i> of the packages I will use here. If all goes well, more detail will be added in later notebooks.\n",
    "\n",
    "## Packages\n",
    "But before I start, I have to import some packages I need."
   ]
  },
  {
   "cell_type": "code",
   "execution_count": 1,
   "metadata": {},
   "outputs": [],
   "source": [
    "%matplotlib inline\n",
    "\n",
    "import logging\n",
    "import pandas as pd\n",
    "import matplotlib as plt"
   ]
  },
  {
   "cell_type": "markdown",
   "metadata": {},
   "source": [
    "## Logger\n",
    "First, let me initialise python's logging package."
   ]
  },
  {
   "cell_type": "code",
   "execution_count": 2,
   "metadata": {},
   "outputs": [],
   "source": [
    "# Initialise Logger\n",
    "log = logging.getLogger('visualise_data_notebook')\n",
    "log.setLevel(logging.INFO)\n",
    "\n",
    "formatter = logging.Formatter('%(asctime)s - %(name)s - %(levelname)s - %(message)s')\n",
    "\n",
    "fh = logging.FileHandler('log/visualise_data.log')\n",
    "fh.setLevel(logging.INFO)\n",
    "fh.setFormatter(formatter)\n",
    "\n",
    "log.addHandler(fh)"
   ]
  },
  {
   "cell_type": "markdown",
   "metadata": {},
   "source": [
    "## Data\n",
    "Since I have initalised a logger, I now have to think about what data I want to visualise. To find a nice data set I browsed <a href='http://www.kaggle.com'>kaggle</a>. Kaggle is one of many adresses where you can find data sets available for personal usage.<br><br>\n",
    "I decided to go for the <a href='https://www.kaggle.com/xvivancos/barcelona-data-sets'>Barcelona data sets</a>. By just looking at it, I had the feeling that it is an easy to understand data set which provides some possiblities for visualising data. Now let me put some hands on it and see what the data tries to tell."
   ]
  },
  {
   "cell_type": "markdown",
   "metadata": {},
   "source": [
    "## Pandas\n",
    "TO DO\n",
    "### Explore Data\n",
    "First, let me import the data I want to explore. I decided for births.csv in the Barcelona data sets. Now, after I figured out the realtive path to the data, I checked how the values are separated from each other. Note that this is quite essential for, otherwise, data would not be imported correctly. Finally, I can import the data using pandas.<br>\n",
    "In a second step, I use the <code>head()</code> function to just get an impression of how my data really looks like. Here it becomes clear what I really enjoy about jupyter - the data is illustrated quite accurately in juypter notbooks. So for data science purposes, jupyter notebooks are just right."
   ]
  },
  {
   "cell_type": "code",
   "execution_count": 3,
   "metadata": {},
   "outputs": [
    {
     "data": {
      "text/html": [
       "<div>\n",
       "<style scoped>\n",
       "    .dataframe tbody tr th:only-of-type {\n",
       "        vertical-align: middle;\n",
       "    }\n",
       "\n",
       "    .dataframe tbody tr th {\n",
       "        vertical-align: top;\n",
       "    }\n",
       "\n",
       "    .dataframe thead th {\n",
       "        text-align: right;\n",
       "    }\n",
       "</style>\n",
       "<table border=\"1\" class=\"dataframe\">\n",
       "  <thead>\n",
       "    <tr style=\"text-align: right;\">\n",
       "      <th></th>\n",
       "      <th>Year</th>\n",
       "      <th>District Code</th>\n",
       "      <th>District Name</th>\n",
       "      <th>Neighborhood Code</th>\n",
       "      <th>Neighborhood Name</th>\n",
       "      <th>Gender</th>\n",
       "      <th>Number</th>\n",
       "    </tr>\n",
       "  </thead>\n",
       "  <tbody>\n",
       "    <tr>\n",
       "      <th>0</th>\n",
       "      <td>2017</td>\n",
       "      <td>1</td>\n",
       "      <td>Ciutat Vella</td>\n",
       "      <td>1</td>\n",
       "      <td>el Raval</td>\n",
       "      <td>Boys</td>\n",
       "      <td>283</td>\n",
       "    </tr>\n",
       "    <tr>\n",
       "      <th>1</th>\n",
       "      <td>2017</td>\n",
       "      <td>1</td>\n",
       "      <td>Ciutat Vella</td>\n",
       "      <td>2</td>\n",
       "      <td>el Barri Gòtic</td>\n",
       "      <td>Boys</td>\n",
       "      <td>56</td>\n",
       "    </tr>\n",
       "    <tr>\n",
       "      <th>2</th>\n",
       "      <td>2017</td>\n",
       "      <td>1</td>\n",
       "      <td>Ciutat Vella</td>\n",
       "      <td>3</td>\n",
       "      <td>la Barceloneta</td>\n",
       "      <td>Boys</td>\n",
       "      <td>51</td>\n",
       "    </tr>\n",
       "    <tr>\n",
       "      <th>3</th>\n",
       "      <td>2017</td>\n",
       "      <td>1</td>\n",
       "      <td>Ciutat Vella</td>\n",
       "      <td>4</td>\n",
       "      <td>Sant Pere, Santa Caterina i la Ribera</td>\n",
       "      <td>Boys</td>\n",
       "      <td>90</td>\n",
       "    </tr>\n",
       "    <tr>\n",
       "      <th>4</th>\n",
       "      <td>2017</td>\n",
       "      <td>2</td>\n",
       "      <td>Eixample</td>\n",
       "      <td>5</td>\n",
       "      <td>el Fort Pienc</td>\n",
       "      <td>Boys</td>\n",
       "      <td>117</td>\n",
       "    </tr>\n",
       "  </tbody>\n",
       "</table>\n",
       "</div>"
      ],
      "text/plain": [
       "   Year  District Code District Name  Neighborhood Code  \\\n",
       "0  2017              1  Ciutat Vella                  1   \n",
       "1  2017              1  Ciutat Vella                  2   \n",
       "2  2017              1  Ciutat Vella                  3   \n",
       "3  2017              1  Ciutat Vella                  4   \n",
       "4  2017              2      Eixample                  5   \n",
       "\n",
       "                       Neighborhood Name Gender  Number  \n",
       "0                               el Raval   Boys     283  \n",
       "1                         el Barri Gòtic   Boys      56  \n",
       "2                         la Barceloneta   Boys      51  \n",
       "3  Sant Pere, Santa Caterina i la Ribera   Boys      90  \n",
       "4                          el Fort Pienc   Boys     117  "
      ]
     },
     "execution_count": 3,
     "metadata": {},
     "output_type": "execute_result"
    }
   ],
   "source": [
    "data = pd.read_csv(filepath_or_buffer='data/barcelona-data-sets/births.csv', sep=',')\n",
    "data.head(5)"
   ]
  },
  {
   "cell_type": "markdown",
   "metadata": {},
   "source": [
    "After I learned how my data looks like, I am interessted in the data types that are used in my data set. Panda's <code>info()</code> function is just the right tool for that kind of work."
   ]
  },
  {
   "cell_type": "code",
   "execution_count": 4,
   "metadata": {},
   "outputs": [
    {
     "name": "stdout",
     "output_type": "stream",
     "text": [
      "<class 'pandas.core.frame.DataFrame'>\n",
      "RangeIndex: 734 entries, 0 to 733\n",
      "Data columns (total 7 columns):\n",
      "Year                 734 non-null int64\n",
      "District Code        734 non-null int64\n",
      "District Name        734 non-null object\n",
      "Neighborhood Code    734 non-null int64\n",
      "Neighborhood Name    734 non-null object\n",
      "Gender               734 non-null object\n",
      "Number               734 non-null int64\n",
      "dtypes: int64(4), object(3)\n",
      "memory usage: 40.2+ KB\n"
     ]
    }
   ],
   "source": [
    "data.info()"
   ]
  },
  {
   "cell_type": "markdown",
   "metadata": {},
   "source": [
    "Now, after having acquired some knowledge about my data, I figured out that there's only one numeric column that is really interessting. <i>Number</i> is the only column that tells us how many babies were born between 2013 an 2017. Let's check out how this data is distributed."
   ]
  },
  {
   "cell_type": "code",
   "execution_count": 5,
   "metadata": {},
   "outputs": [
    {
     "data": {
      "text/plain": [
       "count    734.000000\n",
       "mean      91.754768\n",
       "std       61.928488\n",
       "min        0.000000\n",
       "25%       43.250000\n",
       "50%       84.500000\n",
       "75%      129.250000\n",
       "max      283.000000\n",
       "Name: Number, dtype: float64"
      ]
     },
     "execution_count": 5,
     "metadata": {},
     "output_type": "execute_result"
    }
   ],
   "source": [
    "data['Number'].describe()"
   ]
  },
  {
   "cell_type": "markdown",
   "metadata": {},
   "source": [
    "Another thing I am interested in is <i>Does birth rate change over years?</i> To find out just about that, I used my data, filtered each year separately, selected the column I am interested in and finally summed up each value."
   ]
  },
  {
   "cell_type": "code",
   "execution_count": 6,
   "metadata": {},
   "outputs": [],
   "source": [
    "number_of_births_in_13 = data[data['Year'] == 2013]['Number'].sum()\n",
    "number_of_births_in_14 = data[data['Year'] == 2014]['Number'].sum()\n",
    "number_of_births_in_15 = data[data['Year'] == 2015]['Number'].sum()\n",
    "number_of_births_in_16 = data[data['Year'] == 2016]['Number'].sum()\n",
    "number_of_births_in_17 = data[data['Year'] == 2017]['Number'].sum()"
   ]
  },
  {
   "cell_type": "markdown",
   "metadata": {},
   "source": [
    "With these values, it is possible to create an individual data frame which can be used to plot the newly generated data."
   ]
  },
  {
   "cell_type": "code",
   "execution_count": 7,
   "metadata": {},
   "outputs": [
    {
     "data": {
      "text/plain": [
       "Text(0, 0.5, 'Number of births')"
      ]
     },
     "execution_count": 7,
     "metadata": {},
     "output_type": "execute_result"
    },
    {
     "data": {
      "image/png": "[encoded data removed]",
      "text/plain": [
       "<Figure size 432x288 with 1 Axes>"
      ]
     },
     "metadata": {
      "needs_background": "light"
     },
     "output_type": "display_data"
    }
   ],
   "source": [
    "births_in_year_x = pd.DataFrame({'Year':[2013, \n",
    "                                         2014, \n",
    "                                         2015, \n",
    "                                         2016, \n",
    "                                         2017], \n",
    "                                 'Number of births':[number_of_births_in_13, \n",
    "                                                     number_of_births_in_14, \n",
    "                                                     number_of_births_in_15, \n",
    "                                                     number_of_births_in_16, \n",
    "                                                     number_of_births_in_17]})\n",
    "axs = births_in_year_x.plot.bar(x='Year', rot=0, legend=False)\n",
    "axs.set_ylabel('Number of births')"
   ]
  },
  {
   "cell_type": "markdown",
   "metadata": {},
   "source": [
    "At first glance, this plot looks quite good. Unfortunately, though, this plot does not seem to make clear whether there is a change between 2013 and 2017. Maybe it becomes clearer by adding grid lines."
   ]
  },
  {
   "cell_type": "code",
   "execution_count": 8,
   "metadata": {},
   "outputs": [
    {
     "data": {
      "image/png": "[encoded data removed]",
      "text/plain": [
       "<Figure size 432x288 with 1 Axes>"
      ]
     },
     "metadata": {
      "needs_background": "light"
     },
     "output_type": "display_data"
    }
   ],
   "source": [
    "axs = births_in_year_x.plot.bar(x='Year', rot=0, legend=False)\n",
    "axs.grid()\n",
    "axs.set_axisbelow(True)"
   ]
  },
  {
   "cell_type": "markdown",
   "metadata": {},
   "source": [
    "Now, a change between 2013 and 2017 becomes visible. Since the space between the bars and the upper horizontal grind line becomes smaller, I can conclude that the number of births increased between 2013 and 2016. I can also conclude that the number of births fell between 2016 and 2017."
   ]
  },
  {
   "cell_type": "markdown",
   "metadata": {},
   "source": [
    "### Take a closer look\n",
    "In this section, I would like to know whether there are some differences between the districts. Meaning, I want to know how birth rate varies from district to district. To do so, I collect a list of all districts. "
   ]
  },
  {
   "cell_type": "code",
   "execution_count": 9,
   "metadata": {},
   "outputs": [],
   "source": [
    "districts = data['District Name'].unique()"
   ]
  },
  {
   "cell_type": "markdown",
   "metadata": {},
   "source": [
    "After having done that, I want to collect the number of births in each district in year x. To make life simpler, I defined a function that just does that."
   ]
  },
  {
   "cell_type": "code",
   "execution_count": 10,
   "metadata": {},
   "outputs": [],
   "source": [
    "def map_each_district_to_number_of_births_in_year_x(districts, year):\n",
    "    number_of_birth_per_district = {}\n",
    "    for district in districts:\n",
    "        number_of_birth_per_district[district] = data[(data['Year'] == year) & \n",
    "                                                      (data['District Name'] == district)]['Number'].sum()\n",
    "    return number_of_birth_per_district"
   ]
  },
  {
   "cell_type": "markdown",
   "metadata": {},
   "source": [
    "In case you have a simpler solution, please let me know. As I said previously, these are my first attempts with both python and data science."
   ]
  },
  {
   "cell_type": "code",
   "execution_count": 11,
   "metadata": {},
   "outputs": [],
   "source": [
    "number_of_births_in_each_district_in_2017 = map_each_district_to_number_of_births_in_year_x(districts, 2017)\n",
    "number_of_births_in_each_district_in_2016 = map_each_district_to_number_of_births_in_year_x(districts, 2016)\n",
    "number_of_births_in_each_district_in_2015 = map_each_district_to_number_of_births_in_year_x(districts, 2015)\n",
    "number_of_births_in_each_district_in_2014 = map_each_district_to_number_of_births_in_year_x(districts, 2014)\n",
    "number_of_births_in_each_district_in_2013 = map_each_district_to_number_of_births_in_year_x(districts, 2013)"
   ]
  },
  {
   "cell_type": "markdown",
   "metadata": {},
   "source": [
    "Now I have a basis to create another data frame in order to visualise the number of births in each district in year 2017. In this example I will use another bar plot for I think it makes the point quite clear."
   ]
  },
  {
   "cell_type": "code",
   "execution_count": 12,
   "metadata": {},
   "outputs": [
    {
     "data": {
      "text/plain": [
       "Text(0, 0.5, 'Number of births')"
      ]
     },
     "execution_count": 12,
     "metadata": {},
     "output_type": "execute_result"
    },
    {
     "data": {
      "image/png": "[encoded data removed]",
      "text/plain": [
       "<Figure size 720x360 with 1 Axes>"
      ]
     },
     "metadata": {
      "needs_background": "light"
     },
     "output_type": "display_data"
    }
   ],
   "source": [
    "number_of_births_per_district_in_2017 = pd.DataFrame(\n",
    "    {'District':list(number_of_births_in_each_district_in_2017.keys()), \n",
    "     'Number of Births in 2017':list(number_of_births_in_each_district_in_2017.values()),\n",
    "     'Number of Births in 2016':list(number_of_births_in_each_district_in_2016.values()),\n",
    "     'Number of Births in 2015':list(number_of_births_in_each_district_in_2015.values()),\n",
    "     'Number of Births in 2014':list(number_of_births_in_each_district_in_2014.values()),\n",
    "     'Number of Births in 2013':list(number_of_births_in_each_district_in_2013.values())})\n",
    "\n",
    "axs_2013_17 = number_of_births_per_district_in_2017.plot.bar(x='District', rot=270, figsize=(10,5), title='Births per District')\n",
    "axs_2013_17.set_ylabel('Number of births')"
   ]
  },
  {
   "cell_type": "markdown",
   "metadata": {},
   "source": [
    "With that information, I am curious how the number of births in each neighborhood of one district deviates from the average birth rate of that district in one year. To do so, i have to define the mean value of birth rates in one ditrict in year x and the average number of births in each neighborhood of that very district.<br>\n",
    "First, I have to define the average number of births in district <i>Eixample</i> in, for instance, 2017."
   ]
  },
  {
   "cell_type": "code",
   "execution_count": 24,
   "metadata": {},
   "outputs": [],
   "source": [
    "average_brith_rate_eixample_in_2017 = data[(data['Year'] == 2017) & (data['District Name'] == 'Eixample')]['Number'].sum() / data[(data['Year'] == 2017) & (data['District Name'] == 'Eixample')]['Number'].count()"
   ]
  },
  {
   "cell_type": "markdown",
   "metadata": {},
   "source": [
    "Then I count the total number of births in each neighborhood in Eixample."
   ]
  },
  {
   "cell_type": "code",
   "execution_count": 28,
   "metadata": {},
   "outputs": [],
   "source": [
    "averagE_birth_rate_neigh_code_5_in_2017 = data[(data['Year'] == 2017) & (data['District Name'] == 'Eixample') & (data['Neighborhood Code'] == 5)]['Number'].sum()\n",
    "averagE_birth_rate_neigh_code_6_in_2017 = data[(data['Year'] == 2017) & (data['District Name'] == 'Eixample') & (data['Neighborhood Code'] == 6)]['Number'].sum()\n",
    "averagE_birth_rate_neigh_code_7_in_2017 = data[(data['Year'] == 2017) & (data['District Name'] == 'Eixample') & (data['Neighborhood Code'] == 7)]['Number'].sum()\n",
    "averagE_birth_rate_neigh_code_8_in_2017 = data[(data['Year'] == 2017) & (data['District Name'] == 'Eixample') & (data['Neighborhood Code'] == 8)]['Number'].sum()\n",
    "averagE_birth_rate_neigh_code_9_in_2017 = data[(data['Year'] == 2017) & (data['District Name'] == 'Eixample') & (data['Neighborhood Code'] == 9)]['Number'].sum()\n",
    "averagE_birth_rate_neigh_code_10_in_2017 = data[(data['Year'] == 2017) & (data['District Name'] == 'Eixample') & (data['Neighborhood Code'] == 10)]['Number'].sum()"
   ]
  },
  {
   "cell_type": "markdown",
   "metadata": {},
   "source": [
    "Then I collect all <i>Neighborhood Codes</i> and <i>Neighborhood Names</i> that can be found in, for instance, Eixample."
   ]
  },
  {
   "cell_type": "code",
   "execution_count": 32,
   "metadata": {},
   "outputs": [],
   "source": [
    "neighborhood_codes = data[data['District Name'] == 'Eixample']['Neighborhood Code'].unique()\n",
    "neighborhood_names = data[data['District Name'] == 'Eixample']['Neighborhood Name'].unique()"
   ]
  },
  {
   "cell_type": "markdown",
   "metadata": {},
   "source": [
    "Finally, I can create a fresh DataFrame which I can use to plot my data with a scatter."
   ]
  },
  {
   "cell_type": "code",
   "execution_count": null,
   "metadata": {},
   "outputs": [],
   "source": [
    "# "
   ]
  }
 ],
 "metadata": {
  "kernelspec": {
   "display_name": "Python 3",
   "language": "python",
   "name": "python3"
  },
  "language_info": {
   "codemirror_mode": {
    "name": "ipython",
    "version": 3
   },
   "file_extension": ".py",
   "mimetype": "text/x-python",
   "name": "python",
   "nbconvert_exporter": "python",
   "pygments_lexer": "ipython3",
   "version": "3.7.1"
  }
 },
 "nbformat": 4,
 "nbformat_minor": 2
}
